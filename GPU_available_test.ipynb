{
 "cells": [
  {
   "cell_type": "code",
   "execution_count": null,
   "id": "8e0e97d4",
   "metadata": {},
   "outputs": [],
   "source": [
    "# pip install transformers[torch]\n",
    "# pip install accelerate\n",
    "# pip install --upgrade \"accelerate>=0.26.0\"\n",
    "# pip install transformers -U\n",
    "# pip install pandas\n",
    "# pip install scikit-learn\n",
    "# pip install dotenv\n",
    "# pip install pyarrow or pip install fastparquet\n",
    "# pip install datasets\n",
    "# pip install peft\n",
    "# pip install huggingface_hub\n",
    "# pip3 install torch torchvision torchaudio --index-url https://download.pytorch.org/whl/cu118"
   ]
  },
  {
   "cell_type": "code",
   "execution_count": 2,
   "id": "fe52ed03",
   "metadata": {},
   "outputs": [],
   "source": [
    "import torch\n",
    "import sys"
   ]
  },
  {
   "cell_type": "code",
   "execution_count": null,
   "id": "45c68371",
   "metadata": {},
   "outputs": [
    {
     "name": "stdout",
     "output_type": "stream",
     "text": [
      "CUDA available: True\n",
      "# CUDA devices available:  1\n",
      "PyTorch version: 2.7.0+cu118\n",
      "PyTorch CUDA version: 11.8\n"
     ]
    }
   ],
   "source": [
    "print(\"CUDA available:\", torch.cuda.is_available())\n",
    "print(\"# CUDA devices available: \", torch.cuda.device_count())  # Should be >= 1\n",
    "print(\"PyTorch CUDA version:\", torch.version.cuda)"
   ]
  },
  {
   "cell_type": "code",
   "execution_count": 14,
   "id": "d10e954c",
   "metadata": {},
   "outputs": [
    {
     "name": "stdout",
     "output_type": "stream",
     "text": [
      "GPU device name: NVIDIA GeForce RTX 4050 Laptop GPU\n"
     ]
    }
   ],
   "source": [
    "if torch.cuda.is_available():\n",
    "    print(\"GPU device name:\", torch.cuda.get_device_name(0))"
   ]
  },
  {
   "cell_type": "code",
   "execution_count": null,
   "id": "71da6815",
   "metadata": {},
   "outputs": [
    {
     "name": "stdout",
     "output_type": "stream",
     "text": [
      "cuDNN enabled: True\n",
      "Python executable: d:\\GITHUB\\AXTR LABS\\Fine-Tune (No Repo, gpu_env)\\gpu_env\\Scripts\\python.exe\n",
      "PyTorch version: 2.7.0+cu118\n",
      "CUDA available: True\n"
     ]
    }
   ],
   "source": [
    "print(\"cuDNN enabled:\", torch.backends.cudnn.enabled)\n",
    "print(\"Python executable:\", sys.executable)"
   ]
  },
  {
   "cell_type": "code",
   "execution_count": 19,
   "id": "2515a92b",
   "metadata": {},
   "outputs": [
    {
     "name": "stdout",
     "output_type": "stream",
     "text": [
      "PyTorch version: 2.7.0+cu118\n",
      "PyTorch path: d:\\GITHUB\\AXTR LABS\\Fine-Tune (No Repo, gpu_env)\\gpu_env\\Lib\\site-packages\\torch\\__init__.py\n"
     ]
    }
   ],
   "source": [
    "print(\"PyTorch version:\", torch.__version__)\n",
    "print(\"PyTorch path:\", torch.__file__)"
   ]
  }
 ],
 "metadata": {
  "kernelspec": {
   "display_name": "gpu_env",
   "language": "python",
   "name": "python3"
  },
  "language_info": {
   "codemirror_mode": {
    "name": "ipython",
    "version": 3
   },
   "file_extension": ".py",
   "mimetype": "text/x-python",
   "name": "python",
   "nbconvert_exporter": "python",
   "pygments_lexer": "ipython3",
   "version": "3.11.0"
  }
 },
 "nbformat": 4,
 "nbformat_minor": 5
}
